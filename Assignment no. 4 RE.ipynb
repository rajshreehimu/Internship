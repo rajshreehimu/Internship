{
 "cells": [
  {
   "cell_type": "markdown",
   "id": "9cb0f447",
   "metadata": {},
   "source": [
    "# ASSIGNMENT NO. 4  REGULAR EXPRESSION"
   ]
  },
  {
   "cell_type": "markdown",
   "id": "ceb208f8",
   "metadata": {},
   "source": [
    "# Que.1 Answer"
   ]
  },
  {
   "cell_type": "markdown",
   "id": "3ce426f3",
   "metadata": {},
   "source": [
    "Question 1- Write a Python program to check that a string contains only a certain set of characters (in this case a-z, A-Z and 0-9).\n",
    "Answer:"
   ]
  },
  {
   "cell_type": "code",
   "execution_count": 36,
   "id": "00388fa6",
   "metadata": {},
   "outputs": [
    {
     "name": "stdout",
     "output_type": "stream",
     "text": [
      "True\n",
      "False\n"
     ]
    }
   ],
   "source": [
    "import re\n",
    "\n",
    "def contains_only_allowed_chars(string):\n",
    "    \n",
    "    pattern = r'^[a-zA-Z0-9]+$'\n",
    "    match = re.match(pattern, string)\n",
    "    if match:\n",
    "        return True\n",
    "    else:\n",
    "        return False\n",
    "\n",
    "string1 = \"tanushree\"\n",
    "string2 = \"My_name\"\n",
    "\n",
    "print(contains_only_allowed_chars(string1))  \n",
    "print(contains_only_allowed_chars(string2))  \n"
   ]
  },
  {
   "cell_type": "code",
   "execution_count": null,
   "id": "eba6c9aa",
   "metadata": {},
   "outputs": [],
   "source": []
  },
  {
   "cell_type": "markdown",
   "id": "45349f42",
   "metadata": {},
   "source": [
    "# Que 2 Answer"
   ]
  },
  {
   "cell_type": "markdown",
   "id": "99770703",
   "metadata": {},
   "source": [
    "# Question 2- Create a function in python that matches a string that has an a followed by zero or more b's.\n",
    "Answer :"
   ]
  },
  {
   "cell_type": "code",
   "execution_count": 2,
   "id": "1f20eda4",
   "metadata": {},
   "outputs": [
    {
     "name": "stdout",
     "output_type": "stream",
     "text": [
      "True\n",
      "True\n",
      "True\n",
      "True\n"
     ]
    }
   ],
   "source": [
    "import re\n",
    "\n",
    "def match_pattern(string):\n",
    "    \n",
    "    pattern = r'ab*'\n",
    "    match = re.match(pattern, string)\n",
    "    if match:\n",
    "        return True\n",
    "    else:\n",
    "        return False\n",
    "string1 = \"ab\"\n",
    "string2 = \"abb\"\n",
    "string3 = \"ac\"\n",
    "string4 = \"a\"\n",
    "\n",
    "print(match_pattern(string1))  \n",
    "print(match_pattern(string2))  \n",
    "print(match_pattern(string3))  \n",
    "print(match_pattern(string4))  \n"
   ]
  },
  {
   "cell_type": "markdown",
   "id": "cbaabf97",
   "metadata": {},
   "source": [
    "# Que.3"
   ]
  },
  {
   "cell_type": "code",
   "execution_count": null,
   "id": "215006a1",
   "metadata": {},
   "outputs": [],
   "source": [
    "Que. 3 Create a function in python that matches a string that has an a followed by one or more b's\n",
    "ANSWER :\n"
   ]
  },
  {
   "cell_type": "code",
   "execution_count": 3,
   "id": "20990f4b",
   "metadata": {},
   "outputs": [
    {
     "name": "stdout",
     "output_type": "stream",
     "text": [
      "True\n",
      "True\n",
      "False\n",
      "False\n"
     ]
    }
   ],
   "source": [
    "import re\n",
    "\n",
    "def match_pattern(string):\n",
    "    pattern = r'ab+'\n",
    "    match = re.match(pattern, string)\n",
    "    if match:\n",
    "        return True\n",
    "    else:\n",
    "        return False\n",
    "string1 = \"ab\"\n",
    "string2 = \"abb\"\n",
    "string3 = \"ac\"\n",
    "string4 = \"a\"\n",
    "\n",
    "print(match_pattern(string1))  \n",
    "print(match_pattern(string2))  \n",
    "print(match_pattern(string3))  \n",
    "print(match_pattern(string4)) \n"
   ]
  },
  {
   "cell_type": "markdown",
   "id": "9d25a20c",
   "metadata": {},
   "source": [
    "# QUE 4"
   ]
  },
  {
   "cell_type": "code",
   "execution_count": null,
   "id": "14149e28",
   "metadata": {},
   "outputs": [],
   "source": [
    "Que  4 Create a function in Python and use RegEx that matches a string that has an a followed by zero or one 'b'.\n",
    "ANSWER:"
   ]
  },
  {
   "cell_type": "code",
   "execution_count": 1,
   "id": "bace40de",
   "metadata": {},
   "outputs": [
    {
     "name": "stdout",
     "output_type": "stream",
     "text": [
      "True\n",
      "True\n",
      "True\n",
      "True\n"
     ]
    }
   ],
   "source": [
    "import re\n",
    "\n",
    "def match_pattern(string):\n",
    "\n",
    "    pattern = r'ab?'\n",
    "    \n",
    "    match = re.match(pattern, string)\n",
    "    \n",
    "\n",
    "    if match:\n",
    "        return True\n",
    "    else:\n",
    "        return False\n",
    "\n",
    "\n",
    "string1 = \"ab\"\n",
    "string2 = \"a\"\n",
    "string3 = \"ac\"\n",
    "string4 = \"abb\"\n",
    "\n",
    "print(match_pattern(string1))  \n",
    "print(match_pattern(string2))\n",
    "print(match_pattern(string3))  \n",
    "print(match_pattern(string4)) \n"
   ]
  },
  {
   "cell_type": "markdown",
   "id": "ddc5aee4",
   "metadata": {},
   "source": [
    "# Que. 5"
   ]
  },
  {
   "cell_type": "markdown",
   "id": "080e718a",
   "metadata": {},
   "source": [
    "QUE. 5 Write a Python program that matches a string that has an a followed by three 'b'.\n",
    "ANSWER:"
   ]
  },
  {
   "cell_type": "code",
   "execution_count": 40,
   "id": "257025d5",
   "metadata": {},
   "outputs": [
    {
     "name": "stdout",
     "output_type": "stream",
     "text": [
      "False\n",
      "True\n",
      "False\n",
      "True\n"
     ]
    }
   ],
   "source": [
    "import re\n",
    "\n",
    "def match_pattern(string):\n",
    "    \n",
    "    pattern = r'ab{3}'\n",
    "    match = re.match(pattern, string)\n",
    "    \n",
    "    if match:\n",
    "        return True\n",
    "    else:\n",
    "        return False\n",
    "\n",
    "string1 = \"abb\"\n",
    "string2 = \"abbb\"\n",
    "string3 = \"aabbb\"\n",
    "string4 = \"abbbb\"\n",
    "\n",
    "print(match_pattern(string1))  \n",
    "print(match_pattern(string2))  \n",
    "print(match_pattern(string3)) \n",
    "print(match_pattern(string4))  \n"
   ]
  },
  {
   "cell_type": "markdown",
   "id": "9e54a212",
   "metadata": {},
   "source": [
    "# Que.6"
   ]
  },
  {
   "cell_type": "code",
   "execution_count": null,
   "id": "af51c903",
   "metadata": {},
   "outputs": [],
   "source": [
    "QUE.6- Write a regular expression in Python to split a string into uppercase letters.\n",
    "Sample text: “ImportanceOfRegularExpressionsInPython”\n",
    "Output: [‘Importance’, ‘Of’, ‘Regular’, ‘Expression’, ‘In’, ‘Python’]\n",
    "  \n",
    "ANSWER:"
   ]
  },
  {
   "cell_type": "code",
   "execution_count": 18,
   "id": "a2ee02ca",
   "metadata": {},
   "outputs": [
    {
     "name": "stdout",
     "output_type": "stream",
     "text": [
      "['Importance', 'Of', 'Regular', 'Expressions', 'In', 'Python']\n"
     ]
    }
   ],
   "source": [
    "import re\n",
    "\n",
    "def split_into_uppercase(string):\n",
    "\n",
    "    pattern = r'(?<!^)(?=[A-Z])'\n",
    "    result = re.split(pattern, string)\n",
    "    \n",
    "    return result\n",
    "text = \"ImportanceOfRegularExpressionsInPython\"\n",
    "output = split_into_uppercase(text)\n",
    "print(output)\n"
   ]
  },
  {
   "cell_type": "markdown",
   "id": "9bf92e81",
   "metadata": {},
   "source": [
    "# Que.7"
   ]
  },
  {
   "cell_type": "code",
   "execution_count": null,
   "id": "b57c2f5e",
   "metadata": {},
   "outputs": [],
   "source": [
    "QUE 7 - Write a Python program that matches a string that has an a followed by two to three 'b'.\n",
    "ANSWER:"
   ]
  },
  {
   "cell_type": "code",
   "execution_count": 20,
   "id": "e35380da",
   "metadata": {},
   "outputs": [
    {
     "name": "stdout",
     "output_type": "stream",
     "text": [
      "True\n",
      "True\n",
      "True\n",
      "False\n"
     ]
    }
   ],
   "source": [
    "import re\n",
    "\n",
    "def match_pattern(string):\n",
    "    pattern = r'ab{2,3}'\n",
    "    \n",
    "    match = re.match(pattern, string)\n",
    "    if match:\n",
    "        return True\n",
    "    else:\n",
    "        return False\n",
    "\n",
    "string1 = \"abb\"\n",
    "string2 = \"abbb\"\n",
    "string3 = \"abbbb\"\n",
    "string4 = \"ab\"\n",
    "\n",
    "print(match_pattern(string1))  \n",
    "print(match_pattern(string2))  \n",
    "print(match_pattern(string3))  \n",
    "print(match_pattern(string4))  \n"
   ]
  },
  {
   "cell_type": "markdown",
   "id": "88fa294e",
   "metadata": {},
   "source": [
    "# Que. 8"
   ]
  },
  {
   "cell_type": "markdown",
   "id": "110aed1c",
   "metadata": {},
   "source": [
    "QUE 8 - Write a Python program to find sequences of lowercase letters joined with a underscore.\n",
    "ANSWER:"
   ]
  },
  {
   "cell_type": "code",
   "execution_count": 52,
   "id": "082109f0",
   "metadata": {},
   "outputs": [
    {
     "name": "stdout",
     "output_type": "stream",
     "text": [
      "['hello_friends', 'my_name_is_kajal']\n"
     ]
    }
   ],
   "source": [
    " import re\n",
    "\n",
    "def find_lowercase_sequences(string):\n",
    "    pattern = r'[a-z]+(?:_[a-z]+)+'\n",
    "    \n",
    "    matches = re.findall(pattern, string)\n",
    "    \n",
    "    return matches\n",
    "\n",
    "text = \"hello_friends my_name_is_kajal\"\n",
    "output = find_lowercase_sequences(text)\n",
    "print(output)\n"
   ]
  },
  {
   "cell_type": "markdown",
   "id": "c5f0750f",
   "metadata": {},
   "source": [
    "# Que. 9"
   ]
  },
  {
   "cell_type": "markdown",
   "id": "e860fd57",
   "metadata": {},
   "source": [
    "QUE 9 . Write a Python program that matches a string that has an 'a' followed by anything, ending in 'b'.\n",
    "Answer:"
   ]
  },
  {
   "cell_type": "code",
   "execution_count": 53,
   "id": "08081e31",
   "metadata": {},
   "outputs": [
    {
     "name": "stdout",
     "output_type": "stream",
     "text": [
      "True\n",
      "True\n",
      "True\n",
      "True\n"
     ]
    }
   ],
   "source": [
    "import re\n",
    "\n",
    "def match_pattern(string):\n",
    "    \n",
    "    pattern = r'a.*b$'\n",
    "    match = re.match(pattern, string)\n",
    "    \n",
    "    if match:\n",
    "        return True\n",
    "    else:\n",
    "        return False\n",
    "\n",
    "string1 = \"aXYZb\"\n",
    "string2 = \"a12345788543b\"\n",
    "string3 = \"abgdiokfryjkb\"\n",
    "string4 = \"acljjuytfxdfb\"\n",
    "\n",
    "print(match_pattern(string1)) \n",
    "print(match_pattern(string2))  \n",
    "print(match_pattern(string3))  \n",
    "print(match_pattern(string4))  \n"
   ]
  },
  {
   "cell_type": "code",
   "execution_count": null,
   "id": "1e848c74",
   "metadata": {},
   "outputs": [],
   "source": []
  },
  {
   "cell_type": "markdown",
   "id": "c607f591",
   "metadata": {},
   "source": [
    "# que 10"
   ]
  },
  {
   "cell_type": "code",
   "execution_count": null,
   "id": "83c1f823",
   "metadata": {},
   "outputs": [],
   "source": [
    "QUE 10.- Write a Python program that matches a word at the beginning of a string.\n",
    "ANSWER"
   ]
  },
  {
   "cell_type": "code",
   "execution_count": 55,
   "id": "d7b4d611",
   "metadata": {},
   "outputs": [
    {
     "name": "stdout",
     "output_type": "stream",
     "text": [
      "True\n",
      "True\n",
      "True\n",
      "False\n"
     ]
    }
   ],
   "source": [
    "import re\n",
    "\n",
    "def match_pattern(string):\n",
    "\n",
    "    pattern = r'^\\w+'\n",
    "    match = re.match(pattern, string)\n",
    "    \n",
    "    if match:\n",
    "        return True\n",
    "    else:\n",
    "        return False\n",
    "    \n",
    "string1 = \"Hello, Roccky!\"\n",
    "string2 = \"Anaconda is important!\"\n",
    "string3 = \"578 is the answer\"\n",
    "string4 = \"  loin is king\"\n",
    "\n",
    "print(match_pattern(string1))  \n",
    "print(match_pattern(string2))  \n",
    "print(match_pattern(string3)) \n",
    "print(match_pattern(string4))  \n"
   ]
  },
  {
   "cell_type": "markdown",
   "id": "dde1c65e",
   "metadata": {},
   "source": [
    "# Que 11. ANSWER"
   ]
  },
  {
   "cell_type": "code",
   "execution_count": null,
   "id": "3e02c05d",
   "metadata": {},
   "outputs": [],
   "source": [
    "Que. 11 Write a Python program to match a string that contains only upper and lowercase letters, numbers, and underscores"
   ]
  },
  {
   "cell_type": "code",
   "execution_count": 10,
   "id": "c97078e4",
   "metadata": {},
   "outputs": [
    {
     "name": "stdout",
     "output_type": "stream",
     "text": [
      "True\n",
      "False\n",
      "False\n",
      "True\n"
     ]
    }
   ],
   "source": [
    "import re\n",
    "def match_pattern(string):\n",
    "    \n",
    "    pattern = r'^[a-zA-Z0-9_]+$'\n",
    "    match = re.match(pattern, string)\n",
    "    if match:\n",
    "        return True\n",
    "    else:\n",
    "        return False\n",
    "string1 = \"Hello_pyrhon12\"\n",
    "string2 = \"Good-Morning\"\n",
    "string3 = \"My_Name!\"\n",
    "string4 = \"Gamma123\"\n",
    "\n",
    "print(match_pattern(string1))  \n",
    "print(match_pattern(string2))  \n",
    "print(match_pattern(string3))  \n",
    "print(match_pattern(string4)) \n"
   ]
  },
  {
   "cell_type": "markdown",
   "id": "82749b17",
   "metadata": {},
   "source": [
    "# Que. 12"
   ]
  },
  {
   "cell_type": "code",
   "execution_count": null,
   "id": "8f8e3c20",
   "metadata": {},
   "outputs": [],
   "source": [
    "QUE.12 Write a Python program where a string will start with a specific number. \n",
    "ANSWER:"
   ]
  },
  {
   "cell_type": "code",
   "execution_count": 36,
   "id": "4efe2b38",
   "metadata": {},
   "outputs": [
    {
     "name": "stdout",
     "output_type": "stream",
     "text": [
      "True\n",
      "True\n",
      "False\n"
     ]
    }
   ],
   "source": [
    "def starts_with_number(string, number):\n",
    "    number_str = str(number)\n",
    "    if string.startswith(number_str):\n",
    "        return True\n",
    "    else:\n",
    "        return False\n",
    "\n",
    "string1 = \"123abc\"\n",
    "string2 = \"456xyz\"\n",
    "string3 = \"789\"\n",
    "number1 = 123\n",
    "number2 = 456\n",
    "\n",
    "print(starts_with_number(string1, number1))  \n",
    "print(starts_with_number(string2, number2))  \n",
    "print(starts_with_number(string3, number1)) \n"
   ]
  },
  {
   "cell_type": "markdown",
   "id": "e704cd59",
   "metadata": {},
   "source": [
    "# Que 13"
   ]
  },
  {
   "cell_type": "code",
   "execution_count": null,
   "id": "d9cc1933",
   "metadata": {},
   "outputs": [],
   "source": [
    "QUE 13.- Write a Python program to remove leading zeros from an IP address\n",
    "ANSWER:"
   ]
  },
  {
   "cell_type": "code",
   "execution_count": 57,
   "id": "2ba082c2",
   "metadata": {},
   "outputs": [
    {
     "name": "stdout",
     "output_type": "stream",
     "text": [
      "192.168.1.1.9\n"
     ]
    }
   ],
   "source": [
    "def remove_leading_zeros(ip_address):\n",
    "    octets = ip_address.split('.')\n",
    "    octets_without_zeros = [str(int(octet)) for octet in octets]\n",
    "    cleaned_ip = '.'.join(octets_without_zeros)\n",
    "\n",
    "    return cleaned_ip\n",
    "\n",
    "ip_address = \"192.168.001.001.09\"\n",
    "cleaned_ip = remove_leading_zeros(ip_address)\n",
    "print(cleaned_ip)\n"
   ]
  },
  {
   "cell_type": "code",
   "execution_count": null,
   "id": "00a12448",
   "metadata": {},
   "outputs": [],
   "source": [
    "QUE 14.-Write a regular expression in python to match a date string in the form of Month name followed by day number and year stored in a text file.\n",
    "Sample text : ' On August 15th 1947 that India was declared independent from British colonialism, and the reins of control were handed over to the leaders of the Country’.\n",
    "Output- August 15th 1947 \n",
    "Hint- Use re.match() method here\n"
   ]
  },
  {
   "cell_type": "code",
   "execution_count": null,
   "id": "01532d82",
   "metadata": {},
   "outputs": [],
   "source": [
    "Question 15- Write a Python program to search some literals strings in a string. Go to the editor\n",
    "Sample text : 'The quick brown fox jumps over the lazy dog.'\n",
    "Searched words : 'fox', 'dog', 'horse'\n",
    "\n",
    "Answer:"
   ]
  },
  {
   "cell_type": "code",
   "execution_count": 60,
   "id": "04e085f1",
   "metadata": {},
   "outputs": [
    {
     "name": "stdout",
     "output_type": "stream",
     "text": [
      "'fox' found in the text.\n",
      "'dog' found in the text.\n"
     ]
    }
   ],
   "source": [
    "def search_words(text, words):\n",
    "    found_words = []\n",
    "\n",
    "    for word in words:\n",
    "        if word in text:\n",
    "            found_words.append(word)\n",
    "\n",
    "    return found_words\n",
    "sample_text = 'The quick brown fox jumps over the lazy dog.'\n",
    "searched_words = ['fox', 'dog', 'horse']\n",
    "\n",
    "found_words = search_words(sample_text, searched_words)\n",
    "\n",
    "for word in found_words:\n",
    "    print(f\"'{word}' found in the text.\")\n"
   ]
  },
  {
   "cell_type": "markdown",
   "id": "e899f575",
   "metadata": {},
   "source": [
    "# Que. 16"
   ]
  },
  {
   "cell_type": "code",
   "execution_count": null,
   "id": "9e8056e0",
   "metadata": {},
   "outputs": [],
   "source": [
    "Que 16. Write a Python program to search a literals string in a string and also find the location within the original string where the pattern occurs\n",
    "Sample text : 'The quick brown fox jumps over the lazy dog.'\n",
    "Searched words : 'fox'\n",
    "Answer:"
   ]
  },
  {
   "cell_type": "code",
   "execution_count": 31,
   "id": "0c8bf0b1",
   "metadata": {},
   "outputs": [
    {
     "name": "stdout",
     "output_type": "stream",
     "text": [
      "Pattern found at position 7 to 10.\n"
     ]
    }
   ],
   "source": [
    "import re\n",
    "\n",
    "def search_string(pattern, text):\n",
    "    match = re.search(re.escape(pattern), text)\n",
    "    if match:\n",
    "        start = match.start()\n",
    "        end = match.end()\n",
    "        return f\"Pattern found at position {start} to {end-1}.\"\n",
    "    else:\n",
    "        return \"Pattern not found.\"\n",
    "pattern = \"john\"\n",
    "text = \"Hello, john! john Welcome to at my Home.\"\n",
    "result = search_string(pattern, text)\n",
    "print(result)\n"
   ]
  },
  {
   "cell_type": "markdown",
   "id": "6425e6e4",
   "metadata": {},
   "source": [
    "# Que. 17"
   ]
  },
  {
   "cell_type": "markdown",
   "id": "4f715726",
   "metadata": {},
   "source": [
    "Que 17.- Write a Python program to find the substrings within a string.\n",
    "Sample text : 'Python exercises, PHP exercises, C# exercises'\n",
    "Pattern : 'exercises'.\n",
    "ANSWER:"
   ]
  },
  {
   "cell_type": "code",
   "execution_count": 15,
   "id": "c7d5f009",
   "metadata": {},
   "outputs": [
    {
     "name": "stdout",
     "output_type": "stream",
     "text": [
      "['exercises', 'exercises', 'exercises']\n"
     ]
    }
   ],
   "source": [
    "import re\n",
    "\n",
    "def find_substrings(pattern, text):\n",
    "    matches = re.findall(pattern, text)\n",
    "    return matches\n",
    "text = 'Python exercises, PHP exercises, C# exercises'\n",
    "pattern = 'exercises'\n",
    "result = find_substrings(pattern, text)\n",
    "print(result)\n"
   ]
  },
  {
   "cell_type": "markdown",
   "id": "23f1f179",
   "metadata": {},
   "source": [
    "# Que .18 ANSWER"
   ]
  },
  {
   "cell_type": "markdown",
   "id": "66b35518",
   "metadata": {},
   "source": [
    "Que 18.Write a Python program to find the occurrence and position of the substrings within a string."
   ]
  },
  {
   "cell_type": "code",
   "execution_count": 30,
   "id": "a161fd0f",
   "metadata": {},
   "outputs": [
    {
     "name": "stdout",
     "output_type": "stream",
     "text": [
      "Pattern 'exercises' found at position 7.\n"
     ]
    }
   ],
   "source": [
    "def find_substrings(pattern, text):\n",
    "    occurrences = []\n",
    "    index = 0\n",
    "    while index < len(text):\n",
    "        index = text.find(pattern, index)\n",
    "        if index == -1:\n",
    "            break\n",
    "        occurrences.append((pattern, index))\n",
    "        index += len(pattern)\n",
    "    return occurrences\n",
    "\n",
    "text = 'Python exercises, PHP subject, C# program'\n",
    "pattern = 'exercises'\n",
    "result = find_substrings(pattern, text)\n",
    "for substring, position in result:\n",
    "    print(f\"Pattern '{substring}' found at position {position}.\")\n"
   ]
  },
  {
   "cell_type": "markdown",
   "id": "a01eb94c",
   "metadata": {},
   "source": [
    "# Que. 19"
   ]
  },
  {
   "cell_type": "markdown",
   "id": "ba997730",
   "metadata": {},
   "source": [
    "Que 19.Write a Python program to convert a date of yyyy-mm-dd format to dd-mm-yyyy format.\n",
    "Answer:"
   ]
  },
  {
   "cell_type": "code",
   "execution_count": 17,
   "id": "43b070bc",
   "metadata": {},
   "outputs": [
    {
     "name": "stdout",
     "output_type": "stream",
     "text": [
      "13-07-2023\n"
     ]
    }
   ],
   "source": [
    "from datetime import datetime\n",
    "\n",
    "def convert_date_format(date):\n",
    "    date_obj = datetime.strptime(date, \"%Y-%m-%d\")\n",
    "    \n",
    "    new_date = date_obj.strftime(\"%d-%m-%Y\")\n",
    "    \n",
    "    return new_date\n",
    "\n",
    "date = \"2023-07-13\"\n",
    "converted_date = convert_date_format(date)\n",
    "print(converted_date)\n"
   ]
  },
  {
   "cell_type": "markdown",
   "id": "55fbf51d",
   "metadata": {},
   "source": [
    "# Que. 20  ANSWER"
   ]
  },
  {
   "cell_type": "code",
   "execution_count": null,
   "id": "af9a3e4d",
   "metadata": {},
   "outputs": [],
   "source": [
    "Que. 20 Write a Python program to find all words starting with 'a' or 'e' in a given string.\n",
    "ANswer:"
   ]
  },
  {
   "cell_type": "code",
   "execution_count": null,
   "id": "811ef5e8",
   "metadata": {},
   "outputs": [],
   "source": []
  },
  {
   "cell_type": "code",
   "execution_count": 29,
   "id": "8ee080d5",
   "metadata": {},
   "outputs": [
    {
     "name": "stdout",
     "output_type": "stream",
     "text": [
      "['An', 'an', 'Apple', 'away']\n"
     ]
    }
   ],
   "source": [
    "import re\n",
    "\n",
    "def find_words_starting_with_a_or_e(text):\n",
    "    pattern = r'\\b[aAeE]\\w+' \n",
    "    matches = re.findall(pattern, text)\n",
    "    return matches\n",
    "\n",
    "text = \"An an Apple, keep away from doctor\"\n",
    "result = find_words_starting_with_a_or_e(text)\n",
    "print(result)\n"
   ]
  },
  {
   "cell_type": "markdown",
   "id": "ed4a22de",
   "metadata": {},
   "source": [
    "# Que. 21"
   ]
  },
  {
   "cell_type": "markdown",
   "id": "9703058b",
   "metadata": {},
   "source": [
    "Que.21 Write a Python program to separate and print the numbers and their position of a given string.\n",
    "Answer:"
   ]
  },
  {
   "cell_type": "code",
   "execution_count": 26,
   "id": "9e91065e",
   "metadata": {},
   "outputs": [
    {
     "name": "stdout",
     "output_type": "stream",
     "text": [
      "Number: 24 | Position: 12\n",
      "Number: 26 | Position: 34\n"
     ]
    }
   ],
   "source": [
    "import re\n",
    "\n",
    "def separate_numbers(text):\n",
    "    pattern = r'\\d+' \n",
    "    matches = re.finditer(pattern, text)\n",
    "    for match in matches:\n",
    "        number = match.group()\n",
    "        position = match.start()\n",
    "        print(f\"Number: {number} | Position: {position}\")\n",
    "text = \"Hello Nisha 24, how are you? I am 26 years old.\"\n",
    "separate_numbers(text)\n"
   ]
  },
  {
   "cell_type": "markdown",
   "id": "3a202877",
   "metadata": {},
   "source": [
    "# QUE 22 ANSWER"
   ]
  },
  {
   "cell_type": "markdown",
   "id": "79c3dcf1",
   "metadata": {},
   "source": [
    "QUE. 22 Write a regular expression in python program to extract maximum numeric value from a string\n",
    "ANSWER:"
   ]
  },
  {
   "cell_type": "code",
   "execution_count": 25,
   "id": "046af351",
   "metadata": {},
   "outputs": [
    {
     "name": "stdout",
     "output_type": "stream",
     "text": [
      "9999\n"
     ]
    }
   ],
   "source": [
    "import re\n",
    "\n",
    "def extract_maximum_numeric_value(text):\n",
    "    pattern = r'\\d+'  \n",
    "    matches = re.findall(pattern, text)\n",
    "    \n",
    "    if matches:\n",
    "        max_value = max(map(int, matches))\n",
    "        return max_value\n",
    "    else:\n",
    "        return None\n",
    "\n",
    "text = \"The maximum value is 9999, but there are also 678 and 7622.\"\n",
    "max_value = extract_maximum_numeric_value(text)\n",
    "print(max_value)\n"
   ]
  },
  {
   "cell_type": "markdown",
   "id": "cc9973bf",
   "metadata": {},
   "source": [
    "# Que.23"
   ]
  },
  {
   "cell_type": "markdown",
   "id": "c07ba457",
   "metadata": {},
   "source": [
    "QUE.23 Write a Regex in Python to put spaces between words starting with capital letters\n",
    "ANSWER:"
   ]
  },
  {
   "cell_type": "code",
   "execution_count": 24,
   "id": "87e688a3",
   "metadata": {},
   "outputs": [
    {
     "name": "stdout",
     "output_type": "stream",
     "text": [
      "Hi! My Name Is Rajnikant\n"
     ]
    }
   ],
   "source": [
    "import re\n",
    "\n",
    "def add_spaces(text):\n",
    "    pattern = r'(?<!^)(?=[A-Z])' \n",
    "    result = re.sub(pattern, ' ', text)\n",
    "    return result\n",
    "text = \"Hi!MyNameIsRajnikant\"\n",
    "formatted_text = add_spaces(text)\n",
    "print(formatted_text)\n"
   ]
  },
  {
   "cell_type": "markdown",
   "id": "eaa8e8bc",
   "metadata": {},
   "source": [
    "# Que 24"
   ]
  },
  {
   "cell_type": "markdown",
   "id": "94ec91d4",
   "metadata": {},
   "source": [
    "QUE.24 Python regex to find sequences of one upper case letter followed by lower case letters.\n",
    "ANSWER"
   ]
  },
  {
   "cell_type": "code",
   "execution_count": 6,
   "id": "1fb35d07",
   "metadata": {},
   "outputs": [
    {
     "name": "stdout",
     "output_type": "stream",
     "text": [
      "['Hello', 'Iam', 'Good', 'Girl']\n"
     ]
    }
   ],
   "source": [
    "import re\n",
    "\n",
    "def find_sequences(text):\n",
    "    pattern = r'[A-Z][a-z]+'\n",
    "    matches = re.findall(pattern, text)\n",
    "    return matches\n",
    "\n",
    "\n",
    "text = \"Hello!IamGoodGirl.\"\n",
    "sequences = find_sequences(text)\n",
    "print(sequences)\n"
   ]
  },
  {
   "cell_type": "markdown",
   "id": "a399f19b",
   "metadata": {},
   "source": [
    "# Que. 25"
   ]
  },
  {
   "cell_type": "markdown",
   "id": "3896f601",
   "metadata": {},
   "source": [
    "QUE. 25 Write a Python program to remove duplicate words from Sentence using Regular Expression\n",
    "ANSWER:"
   ]
  },
  {
   "cell_type": "code",
   "execution_count": 43,
   "id": "a69b849c",
   "metadata": {},
   "outputs": [
    {
     "name": "stdout",
     "output_type": "stream",
     "text": [
      "Harshal   is   inteligent person.\n"
     ]
    }
   ],
   "source": [
    "import re\n",
    "\n",
    "def remove_duplicate_words(sentence):\n",
    "    pattern = r'\\b(\\w+)\\b(?=.*\\b\\1\\b)'\n",
    "    result = re.sub(pattern, '', sentence)\n",
    "    return result.strip()\n",
    "\n",
    "\n",
    "sentence = \"Harshal is  is  inteligent inteligent person.\"\n",
    "modified_sentence = remove_duplicate_words(sentence)\n",
    "print(modified_sentence)\n"
   ]
  },
  {
   "cell_type": "markdown",
   "id": "40beee1c",
   "metadata": {},
   "source": [
    "# Que. 26"
   ]
  },
  {
   "cell_type": "markdown",
   "id": "d10ea5a8",
   "metadata": {},
   "source": [
    "que 26. Write a python program using RegEx to accept string ending with alphanumeric character.\n",
    "Answer:\n"
   ]
  },
  {
   "cell_type": "code",
   "execution_count": 46,
   "id": "73f191f5",
   "metadata": {},
   "outputs": [
    {
     "name": "stdout",
     "output_type": "stream",
     "text": [
      "True\n"
     ]
    }
   ],
   "source": [
    "import re\n",
    "\n",
    "def check_string_ending(text):\n",
    "    pattern = r'^.*[a-zA-Z0-9]$'\n",
    "    match = re.match(pattern, text)\n",
    "    if match:\n",
    "        return True\n",
    "    else:\n",
    "        return False\n",
    "\n",
    "text = \"Ageis28\"\n",
    "result = check_string_ending(text)\n",
    "print(result)\n"
   ]
  },
  {
   "cell_type": "markdown",
   "id": "e82c8bd0",
   "metadata": {},
   "source": [
    "# Que .27  ANSWER"
   ]
  },
  {
   "cell_type": "markdown",
   "id": "d3e01980",
   "metadata": {},
   "source": [
    "Question 27-Write a python program using RegEx to extract the hashtags.\n",
    "Sample Text: text = \"\"\"RT @kapil_kausik: #Doltiwal I mean #xyzabc is \"hurt\" by #Demonetization as the same has rendered USELESS <ed><U+00A0><U+00BD><ed><U+00B1><U+0089> \"acquired funds\" No wo\"\"\"\n",
    "Output: ['#Doltiwal', '#xyzabc', '#Demonetization']\n"
   ]
  },
  {
   "cell_type": "code",
   "execution_count": 47,
   "id": "d7a3fb37",
   "metadata": {},
   "outputs": [
    {
     "name": "stdout",
     "output_type": "stream",
     "text": [
      "['#Doltiwal', '#xyzabc', '#Demonetization']\n"
     ]
    }
   ],
   "source": [
    "import re\n",
    "\n",
    "def extract_hashtags(text):\n",
    "    pattern = r'#\\w+'  \n",
    "    hashtags = re.findall(pattern, text)\n",
    "    return hashtags\n",
    "text = 'RT @kapil_kausik: #Doltiwal I mean #xyzabc is \"hurt\" by #Demonetization as the same has rendered USELESS <ed><U+00A0><U+00BD><ed><U+00B1><U+0089> \"acquired funds\" No wo'\n",
    "hashtags = extract_hashtags(text)\n",
    "print(hashtags)\n"
   ]
  },
  {
   "cell_type": "markdown",
   "id": "060318b4",
   "metadata": {},
   "source": [
    "# Que.28 ANSWER"
   ]
  },
  {
   "cell_type": "markdown",
   "id": "68803582",
   "metadata": {},
   "source": [
    "Question 28. Write a python program using RegEx to remove <U+..> like symbols\n",
    "Check the below sample text, there are strange symbols something of the sort <U+..> all over the place. You need to come up with a general Regex expression that will cover all such symbols.\n",
    "Sample Text: \"@Jags123456 Bharat band on 28??<ed><U+00A0><U+00BD><ed><U+00B8><U+0082>Those who  are protesting #demonetization  are all different party leaders\"\n",
    "Output: @Jags123456 Bharat band on 28??<ed><ed>Those who  are protesting #demonetization  are all different party leaders\n",
    "\n",
    "Answer:\n"
   ]
  },
  {
   "cell_type": "code",
   "execution_count": 48,
   "id": "a53a3ab7",
   "metadata": {},
   "outputs": [
    {
     "name": "stdout",
     "output_type": "stream",
     "text": [
      "@Jags123456 Bharat band on 28??<ed><ed>Those who are protesting #demonetization are all different party leaders\n"
     ]
    }
   ],
   "source": [
    "import re\n",
    "\n",
    "def remove_unicode_symbols(text):\n",
    "    pattern = r'<U\\+\\w+>'  \n",
    "    result = re.sub(pattern, '', text)\n",
    "    return result\n",
    "\n",
    "\n",
    "text = \"@Jags123456 Bharat band on 28??<ed><U+00A0><U+00BD><ed><U+00B8><U+0082>Those who are protesting #demonetization are all different party leaders\"\n",
    "modified_text = remove_unicode_symbols(text)\n",
    "print(modified_text)\n"
   ]
  },
  {
   "cell_type": "markdown",
   "id": "0879bbbd",
   "metadata": {},
   "source": [
    "# Que. 30 ANSWER"
   ]
  },
  {
   "cell_type": "markdown",
   "id": "3d174310",
   "metadata": {},
   "source": [
    "Question 30- Write a Python program to replace all occurrences of a space, comma, or dot with a colon.\n",
    "Sample Text- 'Python Exercises, PHP exercises.'\n",
    "Output: Python:Exercises::PHP:exercises:\n",
    "\n",
    "\n",
    "\n",
    "Answer"
   ]
  },
  {
   "cell_type": "code",
   "execution_count": 9,
   "id": "cb4e3c0f",
   "metadata": {},
   "outputs": [
    {
     "name": "stdout",
     "output_type": "stream",
     "text": [
      "Python:Exercises::PHP:exercises:\n"
     ]
    }
   ],
   "source": [
    "def replace_with_colon(text):\n",
    "    replacements = [' ', ',', '.']\n",
    "    for char in replacements:\n",
    "        text = text.replace(char, ':')\n",
    "    return text\n",
    "\n",
    "text = 'Python Exercises, PHP exercises.'\n",
    "modified_text = replace_with_colon(text)\n",
    "print(modified_text)\n"
   ]
  },
  {
   "cell_type": "code",
   "execution_count": null,
   "id": "2c884838",
   "metadata": {},
   "outputs": [],
   "source": []
  }
 ],
 "metadata": {
  "kernelspec": {
   "display_name": "Python 3 (ipykernel)",
   "language": "python",
   "name": "python3"
  },
  "language_info": {
   "codemirror_mode": {
    "name": "ipython",
    "version": 3
   },
   "file_extension": ".py",
   "mimetype": "text/x-python",
   "name": "python",
   "nbconvert_exporter": "python",
   "pygments_lexer": "ipython3",
   "version": "3.9.13"
  }
 },
 "nbformat": 4,
 "nbformat_minor": 5
}
