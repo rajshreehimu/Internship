{
 "cells": [
  {
   "cell_type": "markdown",
   "id": "228eb775",
   "metadata": {},
   "source": [
    "# PYTHON -Worksheet 1"
   ]
  },
  {
   "cell_type": "markdown",
   "id": "7458ceac",
   "metadata": {},
   "source": [
    "Question 11 to 15  Answers"
   ]
  },
  {
   "cell_type": "markdown",
   "id": "f9d06681",
   "metadata": {},
   "source": [
    "# Que 11 Answer"
   ]
  },
  {
   "cell_type": "markdown",
   "id": "62286df3",
   "metadata": {},
   "source": [
    "# A python program to find the factorial of a number."
   ]
  },
  {
   "cell_type": "code",
   "execution_count": 1,
   "id": "dde4720c",
   "metadata": {},
   "outputs": [
    {
     "name": "stdout",
     "output_type": "stream",
     "text": [
      "Enter a number: 5\n",
      "The factorial of 5 is 120\n"
     ]
    }
   ],
   "source": [
    "def factorial(n):\n",
    "    if n == 0:\n",
    "        return 1\n",
    "    else:\n",
    "        return n * factorial(n-1)\n",
    "\n",
    "number = int(input(\"Enter a number: \"))\n",
    "result = factorial(number)\n",
    "print(\"The factorial of\", number, \"is\", result)\n"
   ]
  },
  {
   "cell_type": "markdown",
   "id": "5348ab42",
   "metadata": {},
   "source": [
    "# Question 12. Answer"
   ]
  },
  {
   "cell_type": "markdown",
   "id": "99903aa2",
   "metadata": {},
   "source": [
    "# A python program to find whether a number is prime or composite."
   ]
  },
  {
   "cell_type": "raw",
   "id": "cfc14652",
   "metadata": {},
   "source": [
    "def is_prime(number):\n",
    "    if number < 2:\n",
    "        return False\n",
    "    for i in range(2, int(number**0.5) + 1):\n",
    "        if number % i == 0:\n",
    "            return False\n",
    "    return True\n",
    "\n",
    "number = int(input(\"Enter a number: \"))\n",
    "if is_prime(number):\n",
    "    print(number, \"is a prime number.\")\n",
    "else:\n",
    "    print(number, \"is a composite number.\")"
   ]
  },
  {
   "cell_type": "markdown",
   "id": "f2ef3670",
   "metadata": {},
   "source": [
    "# Question 13 . Answer"
   ]
  },
  {
   "cell_type": "markdown",
   "id": "61bfc819",
   "metadata": {},
   "source": [
    "# A python program to check whether a given string is palindrome or not."
   ]
  },
  {
   "cell_type": "code",
   "execution_count": 13,
   "id": "2bb4c81d",
   "metadata": {},
   "outputs": [
    {
     "name": "stdout",
     "output_type": "stream",
     "text": [
      "Enter a string: civic\n",
      "The string is a palindrome.\n"
     ]
    }
   ],
   "source": [
    "def is_palindrome(string):\n",
    "   \n",
    "    string = string.replace(\" \", \"\").lower()\n",
    "    \n",
    "    reversed_string = string[::-1]\n",
    "    \n",
    "    if string == reversed_string:\n",
    "        return True\n",
    "    else:\n",
    "        return False\n",
    "\n",
    "string = input(\"Enter a string: \")\n",
    "if is_palindrome(string):\n",
    "    print(\"The string is a palindrome.\")\n",
    "else:\n",
    "    print(\"The string is not a palindrome.\")"
   ]
  },
  {
   "cell_type": "markdown",
   "id": "d1e7f3c7",
   "metadata": {},
   "source": [
    "# Question 14. Answer"
   ]
  },
  {
   "cell_type": "markdown",
   "id": "cdba98a2",
   "metadata": {},
   "source": [
    "# A Python program to get the third side of right-angled triangle from two given sides."
   ]
  },
  {
   "cell_type": "code",
   "execution_count": 16,
   "id": "575b1cd2",
   "metadata": {},
   "outputs": [
    {
     "name": "stdout",
     "output_type": "stream",
     "text": [
      "Enter the length of the first side: 4\n",
      "Enter the length of the second side: 3\n",
      "The length of the third side is: 5.0\n"
     ]
    }
   ],
   "source": [
    "import math\n",
    "\n",
    "def calculate_third_side(side1, side2):\n",
    "    third_side = math.sqrt(side1**2 + side2**2)\n",
    "    return third_side\n",
    "\n",
    "side1 = float(input(\"Enter the length of the first side: \"))\n",
    "side2 = float(input(\"Enter the length of the second side: \"))\n",
    "\n",
    "third_side = calculate_third_side(side1, side2)\n",
    "print(\"The length of the third side is:\", third_side)"
   ]
  },
  {
   "cell_type": "markdown",
   "id": "8b6e98cb",
   "metadata": {},
   "source": [
    "# Question 15. Answer"
   ]
  },
  {
   "cell_type": "markdown",
   "id": "d2e83916",
   "metadata": {},
   "source": [
    "# A python program to print the frequency of each of the characters present in a given string."
   ]
  },
  {
   "cell_type": "code",
   "execution_count": 18,
   "id": "7aa76415",
   "metadata": {},
   "outputs": [
    {
     "name": "stdout",
     "output_type": "stream",
     "text": [
      "Enter a string: these is rajshree\n",
      "Character frequencies:\n",
      "t : 1\n",
      "h : 2\n",
      "e : 4\n",
      "s : 3\n",
      "  : 2\n",
      "i : 1\n",
      "r : 2\n",
      "a : 1\n",
      "j : 1\n"
     ]
    }
   ],
   "source": [
    "def character_frequency(string):\n",
    "    frequency = {}\n",
    "\n",
    "    for char in string:\n",
    "        if char in frequency:\n",
    "            frequency[char] += 1\n",
    "        else:\n",
    "            frequency[char] = 1\n",
    "\n",
    "    return frequency\n",
    "\n",
    "string = input(\"Enter a string: \")\n",
    "\n",
    "result = character_frequency(string)\n",
    "\n",
    "print(\"Character frequencies:\")\n",
    "for char in result:\n",
    "    print(char, \":\", result[char])\n"
   ]
  },
  {
   "cell_type": "code",
   "execution_count": null,
   "id": "87fddebc",
   "metadata": {},
   "outputs": [],
   "source": []
  },
  {
   "cell_type": "code",
   "execution_count": null,
   "id": "29dfe1ce",
   "metadata": {},
   "outputs": [],
   "source": []
  },
  {
   "cell_type": "code",
   "execution_count": null,
   "id": "2e0bbcb7",
   "metadata": {},
   "outputs": [],
   "source": []
  }
 ],
 "metadata": {
  "kernelspec": {
   "display_name": "Python 3 (ipykernel)",
   "language": "python",
   "name": "python3"
  },
  "language_info": {
   "codemirror_mode": {
    "name": "ipython",
    "version": 3
   },
   "file_extension": ".py",
   "mimetype": "text/x-python",
   "name": "python",
   "nbconvert_exporter": "python",
   "pygments_lexer": "ipython3",
   "version": "3.9.13"
  }
 },
 "nbformat": 4,
 "nbformat_minor": 5
}
